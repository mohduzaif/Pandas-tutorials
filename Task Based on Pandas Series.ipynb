{
 "cells": [
  {
   "cell_type": "markdown",
   "id": "02b294fa-e5d6-4ccc-8dad-c4f56d64b94f",
   "metadata": {},
   "source": [
    "## Import Libraries."
   ]
  },
  {
   "cell_type": "code",
   "execution_count": 2,
   "id": "1e26c5d6-e6ba-42cb-bbc9-adb2eeb4b1e6",
   "metadata": {},
   "outputs": [],
   "source": [
    "import numpy as np \n",
    "import pandas as pd"
   ]
  },
  {
   "cell_type": "markdown",
   "id": "906aed69-5597-495e-8da4-f367a7a75597",
   "metadata": {},
   "source": [
    "### `Q-1:` Write a program to create an empty series."
   ]
  },
  {
   "cell_type": "code",
   "execution_count": 3,
   "id": "cc5f6dcf-3204-41a2-ab4f-748d1b52c8eb",
   "metadata": {},
   "outputs": [
    {
     "data": {
      "text/plain": [
       "Series([], dtype: object)"
      ]
     },
     "execution_count": 3,
     "metadata": {},
     "output_type": "execute_result"
    }
   ],
   "source": [
    "empty_series = pd.Series()\n",
    "empty_series"
   ]
  },
  {
   "cell_type": "markdown",
   "id": "750045ef-6c34-4c22-aa32-db4d2a8d1372",
   "metadata": {},
   "source": [
    "### `Q-2:` Write a Pandas program to add, subtract, multiple and divide two Pandas Series."
   ]
  },
  {
   "cell_type": "code",
   "execution_count": 4,
   "id": "20888e8c-ac97-480b-a11c-53d3ebd7af88",
   "metadata": {},
   "outputs": [
    {
     "name": "stdout",
     "output_type": "stream",
     "text": [
      "Addition of Two Pandas Series :\n",
      " 0    5\n",
      "1    7\n",
      "2    9\n",
      "dtype: int64\n",
      "Substraction of Two Pandas Series :\n",
      " 0   -3\n",
      "1   -3\n",
      "2   -3\n",
      "dtype: int64\n",
      "Multiplication of Two Pandas Series :\n",
      " 0     4\n",
      "1    10\n",
      "2    18\n",
      "dtype: int64\n",
      "Division of Two Pandas Series :\n",
      " 0    0.25\n",
      "1    0.40\n",
      "2    0.50\n",
      "dtype: float64\n"
     ]
    }
   ],
   "source": [
    "series1 = pd.Series([1, 2, 3])\n",
    "series2 = pd.Series([4, 5, 6])\n",
    "\n",
    "# additon. \n",
    "print('Addition of Two Pandas Series :\\n', series1 + series2)\n",
    "# Substraction\n",
    "print('Substraction of Two Pandas Series :\\n', series1 - series2) \n",
    "# Multiplication \n",
    "print('Multiplication of Two Pandas Series :\\n', series1 * series2) \n",
    "# Division\n",
    "print('Division of Two Pandas Series :\\n', series1 / series2)"
   ]
  },
  {
   "cell_type": "markdown",
   "id": "5397f53c-ee8b-40ca-959f-7f6e44aaecf7",
   "metadata": {},
   "source": [
    "### `Q-3` Write a Pandas program to compare the elements of the two Pandas Series.\n",
    "Sample Series: [2, 4, 6, 8, 10], [1, 3, 5, 7, 10]\n",
    "\n"
   ]
  },
  {
   "cell_type": "code",
   "execution_count": 5,
   "id": "d0f2076b-f07c-4fd6-9b55-55f630fe745d",
   "metadata": {},
   "outputs": [
    {
     "name": "stdout",
     "output_type": "stream",
     "text": [
      "0    False\n",
      "1    False\n",
      "2    False\n",
      "3    False\n",
      "4     True\n",
      "dtype: bool\n",
      "**\n",
      "0    False\n",
      "1    False\n",
      "2    False\n",
      "3    False\n",
      "4    False\n",
      "dtype: bool\n",
      "**\n",
      "0     True\n",
      "1     True\n",
      "2     True\n",
      "3     True\n",
      "4    False\n",
      "dtype: bool\n"
     ]
    }
   ],
   "source": [
    "series1 = pd.Series([2, 4, 6, 8, 10]) \n",
    "series2 = pd.Series([1, 3, 5, 7, 10])\n",
    "\n",
    "print(series1 == series2)\n",
    "print('**')\n",
    "print(series1 < series2) \n",
    "print('**')\n",
    "print(series1 > series2)"
   ]
  },
  {
   "cell_type": "markdown",
   "id": "03024eb3-d3f9-45dc-b18e-fc3fedc7db38",
   "metadata": {},
   "source": [
    "### `Q-5.`Write a function to change the data type of given a column or a Series. Function takes series and data type as input, returns the converted series.\n",
    "\n",
    "```\n",
    "series = pd.Series([1,2,'Python', 2.0, True, 100])\n",
    "change to float type data\n",
    "\n",
    "```\n",
    "Note: Read about pd.to_numeric()"
   ]
  },
  {
   "cell_type": "code",
   "execution_count": 42,
   "id": "6e253451-8e89-4541-bf81-410ac263bcf1",
   "metadata": {},
   "outputs": [
    {
     "data": {
      "text/plain": [
       "0      1.0\n",
       "1      2.0\n",
       "2      NaN\n",
       "3      2.0\n",
       "4      1.0\n",
       "5    100.0\n",
       "dtype: float64"
      ]
     },
     "execution_count": 42,
     "metadata": {},
     "output_type": "execute_result"
    }
   ],
   "source": [
    "def convert_type(series, datatype):\n",
    "    return pd.to_numeric(series, errors='coerce')\n",
    "\n",
    "\n",
    "series = pd.Series([1,2,'Python', 2.0, True, 100])\n",
    "# print(series)\n",
    "convert_type(series, 'float')"
   ]
  },
  {
   "cell_type": "markdown",
   "id": "f395c807-65b9-4dd6-b5e8-71489ffd71e9",
   "metadata": {},
   "source": [
    "### `Q-6` Find top 10 most run getter from the series."
   ]
  },
  {
   "cell_type": "markdown",
   "id": "3735e547-05f1-40eb-b4b7-fecf70dc5607",
   "metadata": {},
   "source": [
    "Download data - https://drive.google.com/file/d/1LRhXwbEodeWXtzPhJCX0X9Lf_BECzvqb/view?usp=share_link\n",
    "All Batsman runs series in IPL 2008 to 2022."
   ]
  },
  {
   "cell_type": "code",
   "execution_count": 7,
   "id": "4c8ca178-25d2-4ef1-961b-c148a5e902e6",
   "metadata": {},
   "outputs": [],
   "source": [
    "scores = pd.read_csv('./Datasets/batsman_runs_series.csv', index_col='batter').squeeze()"
   ]
  },
  {
   "cell_type": "code",
   "execution_count": 8,
   "id": "2eb7d348-e3e3-4d76-8a6b-69732dbc5dbe",
   "metadata": {},
   "outputs": [
    {
     "data": {
      "text/plain": [
       "batter\n",
       "V Kohli           6634\n",
       "S Dhawan          6244\n",
       "DA Warner         5883\n",
       "RG Sharma         5881\n",
       "SK Raina          5536\n",
       "AB de Villiers    5181\n",
       "CH Gayle          4997\n",
       "MS Dhoni          4978\n",
       "RV Uthappa        4954\n",
       "KD Karthik        4377\n",
       "Name: batsman_run, dtype: int64"
      ]
     },
     "execution_count": 8,
     "metadata": {},
     "output_type": "execute_result"
    }
   ],
   "source": [
    "scores.sort_values(ascending=False).head(10)"
   ]
  },
  {
   "cell_type": "markdown",
   "id": "9c4d5cba-e778-4343-aadf-b21f1ba4c483",
   "metadata": {},
   "source": [
    "### `Q-7` No of players having runs above 3000"
   ]
  },
  {
   "cell_type": "code",
   "execution_count": 9,
   "id": "55ebf9c9-cec0-4d3a-9d64-86c60c5e13d3",
   "metadata": {},
   "outputs": [
    {
     "data": {
      "text/plain": [
       "batter\n",
       "A Ashish Reddy    280\n",
       "A Badoni          161\n",
       "A Chandila          4\n",
       "A Chopra           53\n",
       "A Choudhary        25\n",
       "Name: batsman_run, dtype: int64"
      ]
     },
     "execution_count": 9,
     "metadata": {},
     "output_type": "execute_result"
    }
   ],
   "source": [
    "scores.head()"
   ]
  },
  {
   "cell_type": "code",
   "execution_count": 10,
   "id": "792b0196-d2cf-492b-8eeb-6d0a036c8e03",
   "metadata": {},
   "outputs": [
    {
     "data": {
      "text/plain": [
       "batter\n",
       "AB de Villiers    5181\n",
       "AM Rahane         4074\n",
       "AT Rayudu         4190\n",
       "CH Gayle          4997\n",
       "DA Warner         5883\n",
       "F du Plessis      3403\n",
       "G Gambhir         4217\n",
       "KA Pollard        3437\n",
       "KD Karthik        4377\n",
       "KL Rahul          3895\n",
       "MK Pandey         3657\n",
       "MS Dhoni          4978\n",
       "RG Sharma         5881\n",
       "RV Uthappa        4954\n",
       "S Dhawan          6244\n",
       "SK Raina          5536\n",
       "SR Watson         3880\n",
       "SV Samson         3526\n",
       "V Kohli           6634\n",
       "YK Pathan         3222\n",
       "Name: batsman_run, dtype: int64"
      ]
     },
     "execution_count": 10,
     "metadata": {},
     "output_type": "execute_result"
    }
   ],
   "source": [
    "# it will give me the masked boolean series. \n",
    "scores > 3000\n",
    "\n",
    "scores[scores > 3000]"
   ]
  },
  {
   "cell_type": "markdown",
   "id": "87894bce-1f7a-4514-bc5e-667d26c04b04",
   "metadata": {},
   "source": [
    "### `Q-8` No of players having runs above mean value ?"
   ]
  },
  {
   "cell_type": "code",
   "execution_count": 11,
   "id": "226e52c9-1218-4b11-ad9d-bb8635b3beff",
   "metadata": {},
   "outputs": [
    {
     "data": {
      "text/plain": [
       "batter\n",
       "A Symonds           974\n",
       "AB de Villiers     5181\n",
       "AC Gilchrist       2069\n",
       "AD Mathews          724\n",
       "AD Russell         2039\n",
       "                   ... \n",
       "WP Saha            2427\n",
       "Y Venugopal Rao     985\n",
       "YBK Jaiswal         547\n",
       "YK Pathan          3222\n",
       "Yuvraj Singh       2754\n",
       "Name: batsman_run, Length: 128, dtype: int64"
      ]
     },
     "execution_count": 11,
     "metadata": {},
     "output_type": "execute_result"
    }
   ],
   "source": [
    "# it will give me the masked boolean series.  \n",
    "scores > scores.mean()\n",
    "\n",
    "scores[scores > scores.mean()]"
   ]
  },
  {
   "cell_type": "markdown",
   "id": "3385538d-1858-4d5e-afbb-38ac44237e3b",
   "metadata": {},
   "source": [
    "**DATA**\n",
    "\n",
    "Download data - https://drive.google.com/file/d/1QZuZ5bypUInfVvarHACLAi8tXXHvb8xd/view?usp=share_link\n",
    "\n",
    "file name - items.csv\n",
    "\n"
   ]
  },
  {
   "cell_type": "markdown",
   "id": "14c6cd0a-a203-4084-8ea8-db2eed15ce9e",
   "metadata": {},
   "source": [
    "### `Q-9` \n",
    "    i. Read `items.csv` making `item_name` as index.\n",
    "    ii. Show no of nan values\n",
    "    ii. Item price is given in $, so convert it to rupees without currency symbol.\n",
    "    iii. Make data type of newly made series as float.\n",
    "    iv. Fill nan with mean of the series\n",
    "\n",
    "\n",
    "How csv file looks\n",
    "\n",
    "```\n",
    "item_name\titem_price\n",
    "Chips and Fresh Tomato Salsa\t$2.39\n",
    "Izze\t$3.39\n",
    "Nantucket Nectar\t$3.39\n",
    "Chips and Tomatillo-Green Chili Salsa\t$2.39\n",
    "Chicken Bowl\t$16.98\n",
    "\n",
    "```"
   ]
  },
  {
   "cell_type": "code",
   "execution_count": 12,
   "id": "a200b01e-41c2-412b-a8c4-0aa42567a6b0",
   "metadata": {},
   "outputs": [
    {
     "data": {
      "text/plain": [
       "item_name\n",
       "Chips and Fresh Tomato Salsa              $2.39 \n",
       "Izze                                      $3.39 \n",
       "Nantucket Nectar                          $3.39 \n",
       "Chips and Tomatillo-Green Chili Salsa     $2.39 \n",
       "Chicken Bowl                             $16.98 \n",
       "                                          ...   \n",
       "Steak Burrito                            $11.75 \n",
       "Steak Burrito                            $11.75 \n",
       "Chicken Salad Bowl                       $11.25 \n",
       "Chicken Salad Bowl                        $8.75 \n",
       "Chicken Salad Bowl                        $8.75 \n",
       "Name: item_price, Length: 4622, dtype: object"
      ]
     },
     "execution_count": 12,
     "metadata": {},
     "output_type": "execute_result"
    }
   ],
   "source": [
    "items = pd.read_csv('./Datasets/items.csv', index_col='item_name').squeeze()\n",
    "items"
   ]
  },
  {
   "cell_type": "code",
   "execution_count": 13,
   "id": "c203e848-feb4-466e-b758-8e3049f0a403",
   "metadata": {},
   "outputs": [
    {
     "name": "stdout",
     "output_type": "stream",
     "text": [
      "50\n"
     ]
    }
   ],
   "source": [
    "# show number of nan values. \n",
    "print(items.isna().sum())"
   ]
  },
  {
   "cell_type": "code",
   "execution_count": 14,
   "id": "c194c399-9460-4dac-acaf-f09bb7adc8e4",
   "metadata": {},
   "outputs": [
    {
     "data": {
      "text/plain": [
       "item_name\n",
       "Chips and Fresh Tomato Salsa              210.32\n",
       "Izze                                      298.32\n",
       "Nantucket Nectar                          298.32\n",
       "Chips and Tomatillo-Green Chili Salsa     210.32\n",
       "Chicken Bowl                             1494.24\n",
       "                                          ...   \n",
       "Steak Burrito                            1034.00\n",
       "Steak Burrito                            1034.00\n",
       "Chicken Salad Bowl                        990.00\n",
       "Chicken Salad Bowl                        770.00\n",
       "Chicken Salad Bowl                        770.00\n",
       "Name: item_price, Length: 4572, dtype: float64"
      ]
     },
     "execution_count": 14,
     "metadata": {},
     "output_type": "execute_result"
    }
   ],
   "source": [
    "# Item price is given in $, so convert it to rupees without currency symbol. \n",
    "filter_data = items.dropna()\n",
    "filter_data.apply(lambda item : pd.to_numeric(item[1 : len(item) - 1]) * 88) "
   ]
  },
  {
   "cell_type": "code",
   "execution_count": 15,
   "id": "6e8d8708-644f-4f5b-9e10-c96e5b3d30b0",
   "metadata": {},
   "outputs": [],
   "source": [
    "# Make data type of newly made series as float.\n",
    "\n",
    "filter_data = items.dropna()\n",
    "new_data = filter_data.apply(lambda x : pd.to_numeric(x[1 : len(x) - 1]) * 88)"
   ]
  },
  {
   "cell_type": "code",
   "execution_count": 16,
   "id": "0e250bfa-b9c0-4fe2-a361-b9cdee8550a0",
   "metadata": {},
   "outputs": [
    {
     "data": {
      "text/plain": [
       "item_name\n",
       "Chips and Fresh Tomato Salsa              210.32\n",
       "Izze                                      298.32\n",
       "Nantucket Nectar                          298.32\n",
       "Chips and Tomatillo-Green Chili Salsa     210.32\n",
       "Chicken Bowl                             1494.24\n",
       "                                          ...   \n",
       "Steak Burrito                            1034.00\n",
       "Steak Burrito                            1034.00\n",
       "Chicken Salad Bowl                        990.00\n",
       "Chicken Salad Bowl                        770.00\n",
       "Chicken Salad Bowl                        770.00\n",
       "Name: item_price, Length: 4572, dtype: float64"
      ]
     },
     "execution_count": 16,
     "metadata": {},
     "output_type": "execute_result"
    }
   ],
   "source": [
    "new_data"
   ]
  },
  {
   "cell_type": "code",
   "execution_count": 18,
   "id": "ad0b21b3-af70-469c-8c62-2f4c979aa5e1",
   "metadata": {},
   "outputs": [
    {
     "data": {
      "text/plain": [
       "item_name\n",
       "Chips and Fresh Tomato Salsa              210.32\n",
       "Izze                                      298.32\n",
       "Nantucket Nectar                          298.32\n",
       "Chips and Tomatillo-Green Chili Salsa     210.32\n",
       "Chicken Bowl                             1494.24\n",
       "                                          ...   \n",
       "Steak Burrito                            1034.00\n",
       "Steak Burrito                            1034.00\n",
       "Chicken Salad Bowl                        990.00\n",
       "Chicken Salad Bowl                        770.00\n",
       "Chicken Salad Bowl                        770.00\n",
       "Name: item_price, Length: 4572, dtype: float64"
      ]
     },
     "execution_count": 18,
     "metadata": {},
     "output_type": "execute_result"
    }
   ],
   "source": [
    "# Fill nan with mean of the series \n",
    "new_data.fillna(new_data.mean())"
   ]
  },
  {
   "cell_type": "markdown",
   "id": "1c3e2f8d-4696-4822-be00-02b16a85afbe",
   "metadata": {},
   "source": [
    "### `Q-10`: \n",
    "    i. Find mean price\n",
    "    ii. Find 30th and 6th percentile value\n",
    "    iii. Plot Histogram on price with bin size 50\n",
    "    iv. No of items price lies between [1000 to 2000]\n",
    "\n"
   ]
  },
  {
   "cell_type": "code",
   "execution_count": 147,
   "id": "8d676841-8ea3-469d-8ea1-75d365f7251c",
   "metadata": {},
   "outputs": [
    {
     "name": "stdout",
     "output_type": "stream",
     "text": [
      "656.7467716535433\n"
     ]
    }
   ],
   "source": [
    "# Find mean price. \n",
    "filter_data = items.dropna()\n",
    "new_data = filter_data.apply(lambda x : pd.to_numeric(x[1 : len(x) - 1]) * 88)\n",
    "\n",
    "print(new_data.mean())"
   ]
  },
  {
   "cell_type": "code",
   "execution_count": 148,
   "id": "30f2a547-0542-41f6-9308-4bea0d5eb3d6",
   "metadata": {},
   "outputs": [
    {
     "name": "stdout",
     "output_type": "stream",
     "text": [
      "110.0\n",
      "391.6\n"
     ]
    }
   ],
   "source": [
    "arr = np.array(new_data)\n",
    "# Find 30th and 6th percentile value \n",
    "print(np.percentile(arr, 6))\n",
    "print(np.percentile(arr, 30))\n"
   ]
  },
  {
   "cell_type": "code",
   "execution_count": 22,
   "id": "ae70d9e5-9561-45f2-a9ca-faa6efa6d9bc",
   "metadata": {},
   "outputs": [
    {
     "name": "stdout",
     "output_type": "stream",
     "text": [
      "110.0\n",
      "391.6\n"
     ]
    }
   ],
   "source": [
    "# Find 30th and 6th percentile value. \n",
    "print(new_data.quantile(q = 0.06))\n",
    "print(new_data.quantile(q = 0.3))"
   ]
  },
  {
   "cell_type": "code",
   "execution_count": 154,
   "id": "4f52db6e-b322-4626-8322-04cdf003e6d6",
   "metadata": {},
   "outputs": [
    {
     "data": {
      "text/plain": [
       "np.int64(469)"
      ]
     },
     "execution_count": 154,
     "metadata": {},
     "output_type": "execute_result"
    }
   ],
   "source": [
    "# No of items price lies between [1000 to 2000]\n",
    "new_data.between(1000, 2000).sum()"
   ]
  },
  {
   "cell_type": "code",
   "execution_count": 30,
   "id": "bed768e8-8359-443d-9573-5259d4e44bdf",
   "metadata": {},
   "outputs": [
    {
     "data": {
      "text/plain": [
       "np.int64(469)"
      ]
     },
     "execution_count": 30,
     "metadata": {},
     "output_type": "execute_result"
    }
   ],
   "source": [
    "# No of items price lies between [1000 to 2000]\n",
    "new_data[(new_data > 1000) & (new_data < 2000)].count()"
   ]
  },
  {
   "cell_type": "code",
   "execution_count": 25,
   "id": "f935da9d-0a33-4910-8199-1272bb5384fc",
   "metadata": {},
   "outputs": [
    {
     "data": {
      "text/plain": [
       "<Axes: ylabel='Frequency'>"
      ]
     },
     "execution_count": 25,
     "metadata": {},
     "output_type": "execute_result"
    },
    {
     "data": {
      "image/png": "[encoded data removed]",
      "text/plain": [
       "<Figure size 640x480 with 1 Axes>"
      ]
     },
     "metadata": {},
     "output_type": "display_data"
    }
   ],
   "source": [
    "# Plot Histogram on price with bin size 50\n",
    "new_data.plot.hist(bins=50)"
   ]
  },
  {
   "cell_type": "code",
   "execution_count": null,
   "id": "99274ef2-178a-482c-a228-7f418fe584a9",
   "metadata": {},
   "outputs": [],
   "source": []
  }
 ],
 "metadata": {
  "kernelspec": {
   "display_name": "Python 3 (ipykernel)",
   "language": "python",
   "name": "python3"
  },
  "language_info": {
   "codemirror_mode": {
    "name": "ipython",
    "version": 3
   },
   "file_extension": ".py",
   "mimetype": "text/x-python",
   "name": "python",
   "nbconvert_exporter": "python",
   "pygments_lexer": "ipython3",
   "version": "3.13.1"
  }
 },
 "nbformat": 4,
 "nbformat_minor": 5
}
