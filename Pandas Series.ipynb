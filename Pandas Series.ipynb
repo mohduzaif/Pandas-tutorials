{
 "cells": [
  {
   "cell_type": "markdown",
   "id": "1ed6a80e-fdbd-4b7f-b557-28073bf402de",
   "metadata": {},
   "source": [
    "### What is Pandas\n",
    "\n",
    "Pandas is a fast, powerful, flexible and easy to use open source data analysis and manipulation tool,\n",
    "built on top of the Python programming language.\n",
    "\n",
    "https://pandas.pydata.org/about/index.html"
   ]
  },
  {
   "cell_type": "markdown",
   "id": "b1fbb4ec-48e6-4423-805c-a24bdff26b63",
   "metadata": {},
   "source": [
    "### Pandas Series\n",
    "\n",
    "A Pandas Series is like a column in a table. It is a 1-D array holding data of any type."
   ]
  },
  {
   "cell_type": "markdown",
   "id": "0a41939a-e268-423b-b532-8c721c9b580c",
   "metadata": {},
   "source": [
    "### Importing Pandas\n",
    "- It is always recommand when we import pandas, we will import numpy as well."
   ]
  },
  {
   "cell_type": "code",
   "execution_count": null,
   "id": "cf1a2669-439e-40b2-b833-0f83efdb97d6",
   "metadata": {},
   "outputs": [],
   "source": [
    "import pandas as pd \n",
    "import numpy as np"
   ]
  },
  {
   "cell_type": "markdown",
   "id": "200afde7-8079-4e48-905c-648dc9c242c6",
   "metadata": {},
   "source": [
    "### Series from lists\n",
    "1. Using by default index.\n",
    "2. Using custom index."
   ]
  },
  {
   "cell_type": "markdown",
   "id": "c5c88ba5-e2c8-40fd-b5e9-43b83b79cb61",
   "metadata": {},
   "source": [
    "#### 1. Using by default index."
   ]
  },
  {
   "cell_type": "code",
   "execution_count": null,
   "id": "60678de7-e844-4945-aa2d-12f6c980fb82",
   "metadata": {},
   "outputs": [],
   "source": [
    "# string.  \n",
    "# dtype in pandas series represent the type of data series contain.\n",
    "countries = pd.Series(['India', 'Australia', 'USA', 'UK', 'Germany', 'Kuwait'])\n",
    "countries"
   ]
  },
  {
   "cell_type": "code",
   "execution_count": null,
   "id": "c83f0b7f-662a-4af3-870f-68ef797b8f40",
   "metadata": {},
   "outputs": [],
   "source": [
    "# integers. \n",
    "runs = [23, 45, 67, 98, 40, 30]\n",
    "runs_ser = pd.Series(runs)\n",
    "runs_ser"
   ]
  },
  {
   "cell_type": "markdown",
   "id": "3ccdc99b-3136-40fa-ac57-64a5bb04ab78",
   "metadata": {},
   "source": [
    "#### 1. Using by Custom index."
   ]
  },
  {
   "cell_type": "code",
   "execution_count": null,
   "id": "a4b7ab1a-01c9-4638-b239-21d6d7158469",
   "metadata": {},
   "outputs": [],
   "source": [
    "# Example 1\n",
    "\n",
    "runs = [23, 45, 67, 98, 40, 30]\n",
    "\n",
    "runs_series = pd.Series(runs, index = range(1, len(runs) + 1))\n",
    "runs_series"
   ]
  },
  {
   "cell_type": "code",
   "execution_count": null,
   "id": "b8c327bc-7dd1-4355-b679-a0fd397a4125",
   "metadata": {},
   "outputs": [],
   "source": [
    "# Example 2 \n",
    "\n",
    "marks = [67,57,89,100,90]\n",
    "subjects = ['Maths', 'English', 'Physics', 'Chemistry', 'Hindi']\n",
    "\n",
    "pd.Series(marks, index = subjects)"
   ]
  },
  {
   "cell_type": "code",
   "execution_count": null,
   "id": "58595fa4-94b8-4754-9edd-c363ab9694e2",
   "metadata": {},
   "outputs": [],
   "source": [
    "# setting a name of the series. \n",
    "marks_series = pd.Series(marks, index=subjects, name='I dont know kis Hosiyar k marks hai ye')\n",
    "\n",
    "marks_series"
   ]
  },
  {
   "cell_type": "markdown",
   "id": "a75a69d4-2327-4bc3-a326-d2314c3534b2",
   "metadata": {},
   "source": [
    "### Series from dict"
   ]
  },
  {
   "cell_type": "code",
   "execution_count": null,
   "id": "d568015c-c42b-4888-aaac-12464e4bf13b",
   "metadata": {},
   "outputs": [],
   "source": [
    "# here it will consider the key as the index in the series. \n",
    "\n",
    "marks = {\n",
    "    'Maths' : 67,\n",
    "    'English' : 57,\n",
    "    'Physics' : 89,\n",
    "    'Chemistry' : 100,\n",
    "    'Hindi' : 100\n",
    "}\n",
    "\n",
    "pd.Series(marks)"
   ]
  },
  {
   "cell_type": "markdown",
   "id": "3bf65210-95fc-4b2e-a4fb-d27db91967e7",
   "metadata": {},
   "source": [
    "### Series Attributes.\n",
    "1. size : return the number of rows(including the missing values).\n",
    "2. dtype : return the datatype of the values that series contain.\n",
    "3. name : return the name of the series\n",
    "4. is_unique : return True/False on the basis of is whether series contain unique value or not. \n",
    "5. index : return all the index present inside the series. \n",
    "6. values : return all the values of the series."
   ]
  },
  {
   "cell_type": "code",
   "execution_count": null,
   "id": "5e1c54fe-4bb2-4038-a437-1bbdd6132f1d",
   "metadata": {},
   "outputs": [],
   "source": [
    "# size\n",
    "marks_series.size"
   ]
  },
  {
   "cell_type": "code",
   "execution_count": null,
   "id": "0ee6f86d-13d2-4bad-9af4-f553a968f48a",
   "metadata": {},
   "outputs": [],
   "source": [
    "# dtype. \n",
    "marks_series.dtype"
   ]
  },
  {
   "cell_type": "code",
   "execution_count": null,
   "id": "ac511f6c-ad37-404b-90c9-e898ae3a2712",
   "metadata": {},
   "outputs": [],
   "source": [
    "# name \n",
    "marks_series.name"
   ]
  },
  {
   "cell_type": "code",
   "execution_count": null,
   "id": "6a66b01f-fc44-4145-9bb4-ae877a4a9396",
   "metadata": {},
   "outputs": [],
   "source": [
    "# is_unique\n",
    "\n",
    "print(marks_series.is_unique)\n",
    "print(pd.Series([1, 1, 2, 2, 3, 4, 5], index=range(1, 8)).is_unique)"
   ]
  },
  {
   "cell_type": "code",
   "execution_count": null,
   "id": "32ea6da9-4193-40d6-8d2d-d7bcdeb84ad7",
   "metadata": {},
   "outputs": [],
   "source": [
    "# index \n",
    "marks_series.index"
   ]
  },
  {
   "cell_type": "code",
   "execution_count": null,
   "id": "84130925-cc7d-4ad1-9356-450ac41a22e6",
   "metadata": {},
   "outputs": [],
   "source": [
    "# values. \n",
    "marks_series.values"
   ]
  },
  {
   "cell_type": "markdown",
   "id": "0f13e7c2-3512-45c5-8c2b-339384811475",
   "metadata": {},
   "source": [
    "### Series using read_csv"
   ]
  },
  {
   "cell_type": "code",
   "execution_count": null,
   "id": "1854853a-0d16-4eec-aa25-517905a50309",
   "metadata": {},
   "outputs": [],
   "source": [
    "# with one column. \n",
    "subs = pd.read_csv('./Datasets/subs.csv').squeeze()\n",
    "subs"
   ]
  },
  {
   "cell_type": "code",
   "execution_count": null,
   "id": "acf47aaf-b8e0-44fc-8c3e-8f452bce674b",
   "metadata": {},
   "outputs": [],
   "source": [
    "# with two column\n",
    "vk = pd.read_csv('./Datasets/kohli_ipl.csv', index_col='match_no').squeeze()\n",
    "vk"
   ]
  },
  {
   "cell_type": "code",
   "execution_count": null,
   "id": "e51301e2-9374-4264-b8c6-fbdb5f040c8f",
   "metadata": {},
   "outputs": [],
   "source": [
    "# two columns Series.\n",
    "\n",
    "movies = pd.read_csv('./Datasets/bollywood.csv', index_col='movie').squeeze()\n",
    "movies"
   ]
  },
  {
   "cell_type": "markdown",
   "id": "69995f0f-91de-4063-9234-8667dcf2523a",
   "metadata": {},
   "source": [
    "### Series methods.\n",
    "1. **head** : return first five rows of the dataset(we can change its default behavior).\n",
    "2. **tail** : return the last five rows from the dataset(we can change its default behavior).\n",
    "3. **sample** : return one random row from the dataset(we can change its default behavior).\n",
    "4. **value_count**s : return the count of the each value.\n",
    "5. **sort_values** : sort the series according to the values(we can do it inplace also).\n",
    "6. **sort_index** : sort the series according to the index(we can do it inplace also). "
   ]
  },
  {
   "cell_type": "code",
   "execution_count": null,
   "id": "00b0b2e9-c96a-4e26-ba98-bddbbfa82cf8",
   "metadata": {},
   "outputs": [],
   "source": [
    "# head function. \n",
    "movies.head()"
   ]
  },
  {
   "cell_type": "code",
   "execution_count": null,
   "id": "bd9e4c9e-72f1-4d81-9beb-f312bba5deb6",
   "metadata": {},
   "outputs": [],
   "source": [
    "vk.head(3)"
   ]
  },
  {
   "cell_type": "code",
   "execution_count": null,
   "id": "47220cf4-6bee-409c-b218-607dc100f027",
   "metadata": {},
   "outputs": [],
   "source": [
    "# tail function"
   ]
  },
  {
   "cell_type": "code",
   "execution_count": null,
   "id": "c82e37de-a57f-4887-b1b1-ce73f14473cb",
   "metadata": {},
   "outputs": [],
   "source": [
    "vk.tail()"
   ]
  },
  {
   "cell_type": "code",
   "execution_count": null,
   "id": "b4c96ea5-e821-478e-ae5c-7e884c253c96",
   "metadata": {},
   "outputs": [],
   "source": [
    "subs.head()"
   ]
  },
  {
   "cell_type": "code",
   "execution_count": null,
   "id": "618eb317-e3a1-4dad-8ec9-7b7ac9770314",
   "metadata": {},
   "outputs": [],
   "source": [
    "subs.tail(10)"
   ]
  },
  {
   "cell_type": "code",
   "execution_count": null,
   "id": "12047a31-1208-4f1c-9c54-f239c37c92d8",
   "metadata": {},
   "outputs": [],
   "source": [
    "subs.sample()"
   ]
  },
  {
   "cell_type": "code",
   "execution_count": null,
   "id": "930e9161-540c-4957-a042-2b1d234a2c3c",
   "metadata": {},
   "outputs": [],
   "source": [
    "movies.sample(5)"
   ]
  },
  {
   "cell_type": "code",
   "execution_count": null,
   "id": "6a3d320d-d74b-4a7c-85b3-9ef43bf43186",
   "metadata": {},
   "outputs": [],
   "source": [
    "# value_counts \n",
    "\n",
    "movies.value_counts()"
   ]
  },
  {
   "cell_type": "code",
   "execution_count": null,
   "id": "3dca8ac1-330b-4c74-b63f-166ead359541",
   "metadata": {},
   "outputs": [],
   "source": [
    "# sort_values (Ascending order)\n",
    "vk.sort_values()"
   ]
  },
  {
   "cell_type": "code",
   "execution_count": null,
   "id": "81aaf774-7f01-4c4e-901c-27b1c088b784",
   "metadata": {},
   "outputs": [],
   "source": [
    "# decsending order\n",
    "vk.sort_values(ascending=False)"
   ]
  },
  {
   "cell_type": "code",
   "execution_count": null,
   "id": "8c7746f4-7f99-4f5a-b6d5-092867a9fe69",
   "metadata": {},
   "outputs": [],
   "source": [
    "# sort_index\n",
    "movies"
   ]
  },
  {
   "cell_type": "code",
   "execution_count": null,
   "id": "21457e31-0b28-4d44-b58b-f4bbffa88ffb",
   "metadata": {},
   "outputs": [],
   "source": [
    "# it sort the indexes in ascending order. \n",
    "movies.sort_index().head()"
   ]
  },
  {
   "cell_type": "code",
   "execution_count": null,
   "id": "faebc850-631f-4461-af4d-19be776f8128",
   "metadata": {},
   "outputs": [],
   "source": [
    "# it sort the indexes in descending order. \n",
    "movies.sort_index(ascending=False)"
   ]
  },
  {
   "cell_type": "markdown",
   "id": "1bd8925b-3a25-4b59-9a77-b2f598b63971",
   "metadata": {},
   "source": [
    "### Series Maths Methods\n",
    "1. **count** : count all the non-missing rows. \n",
    "2. **sum** : return the sum of the series. \n",
    "3. **mean/median/mode/std/var** : Return the single value accordingly. \n",
    "4. **min/max** : return minimum/maximum value from the given series. \n",
    "5. **describe** : describe the complete series in a tabular form. "
   ]
  },
  {
   "cell_type": "code",
   "execution_count": null,
   "id": "6536b26c-866e-4ec7-9aa5-4c85fa8bb0bd",
   "metadata": {},
   "outputs": [],
   "source": [
    "# count function\n",
    "print(subs.count())"
   ]
  },
  {
   "cell_type": "code",
   "execution_count": null,
   "id": "3ff6effb-53c5-4324-ac5b-654c19720431",
   "metadata": {},
   "outputs": [],
   "source": [
    "# sum function. \n",
    "print(subs.sum())"
   ]
  },
  {
   "cell_type": "code",
   "execution_count": null,
   "id": "d8818bce-7534-4004-9b0f-5aa45e2b3184",
   "metadata": {},
   "outputs": [],
   "source": [
    "# mean function. \n",
    "print(vk.mean())\n",
    "\n",
    "# median \n",
    "print(vk.median()) \n",
    "\n",
    "# mode \n",
    "print(movies.mode()) \n",
    "\n",
    "# standard deviation\n",
    "print(vk.std()) \n",
    "\n",
    "# variance\n",
    "print(vk.var())"
   ]
  },
  {
   "cell_type": "code",
   "execution_count": null,
   "id": "4ce0aba5-aa1b-412c-866c-502c33db2ad3",
   "metadata": {},
   "outputs": [],
   "source": [
    "# min/max \n",
    "print(subs.min())\n",
    "print(subs.max())"
   ]
  },
  {
   "cell_type": "code",
   "execution_count": null,
   "id": "0b7265ff-f134-4333-af1f-6f7f3d34daf3",
   "metadata": {},
   "outputs": [],
   "source": [
    "# describe function. \n",
    "vk.describe()"
   ]
  },
  {
   "cell_type": "markdown",
   "id": "1db939c1-ab3a-48cd-ab47-cba3ad04dcd9",
   "metadata": {},
   "source": [
    "### Series Indexing"
   ]
  },
  {
   "cell_type": "code",
   "execution_count": null,
   "id": "82f4e4c4-42a6-4689-b71d-d628d0ac1e48",
   "metadata": {},
   "outputs": [],
   "source": [
    "# integer indexing\n",
    "x = pd.Series([12,13,14,35,46,57,58,79,9])"
   ]
  },
  {
   "cell_type": "code",
   "execution_count": null,
   "id": "6e6971da-b4a4-4f0b-a26a-8c212c38b023",
   "metadata": {},
   "outputs": [],
   "source": [
    "# positive indexing\n",
    "x[3]"
   ]
  },
  {
   "cell_type": "markdown",
   "id": "3fe7435a-2967-4a12-9e2e-39604d591e7c",
   "metadata": {},
   "source": [
    "`NOTE : ` Negative indexing is not working in case of pandas series."
   ]
  },
  {
   "cell_type": "code",
   "execution_count": null,
   "id": "89199e0a-8cce-437d-a6c0-659f9433073f",
   "metadata": {},
   "outputs": [],
   "source": [
    "x[-1]"
   ]
  },
  {
   "cell_type": "code",
   "execution_count": null,
   "id": "19bf2326-9e10-4e89-aef0-068efea65e72",
   "metadata": {},
   "outputs": [],
   "source": [
    "movies[-5]"
   ]
  },
  {
   "cell_type": "code",
   "execution_count": null,
   "id": "701370b6-a680-48e4-9774-7149a24ea8f8",
   "metadata": {},
   "outputs": [],
   "source": [
    "# Positive slicing in pandas series. \n",
    "vk[5 : 16]"
   ]
  },
  {
   "cell_type": "code",
   "execution_count": null,
   "id": "dde011f7-9483-4dd1-bb77-3351c7db79d5",
   "metadata": {},
   "outputs": [],
   "source": [
    "# Negative slicing in pandas series. \n",
    "vk[-5 : ]"
   ]
  },
  {
   "cell_type": "code",
   "execution_count": null,
   "id": "29e5fa40-efb6-4c79-bce0-46c2cb081f3f",
   "metadata": {},
   "outputs": [],
   "source": [
    "movies[ : : 2]"
   ]
  },
  {
   "cell_type": "code",
   "execution_count": null,
   "id": "2da9d6b8-693a-4c25-bdec-739a4dc17cc1",
   "metadata": {},
   "outputs": [],
   "source": [
    "# fancy indexing \n",
    "vk[[1, 4, 5, 7, 8]]"
   ]
  },
  {
   "cell_type": "code",
   "execution_count": null,
   "id": "87cfa873-5e06-4dc7-9093-cf0f9ec6fb9b",
   "metadata": {},
   "outputs": [],
   "source": [
    "# indexing with labels -> fancy indexing\n",
    "movies['2 States (2014 film)']"
   ]
  },
  {
   "cell_type": "markdown",
   "id": "d3994567-0523-4f65-8e2b-b679724eb65a",
   "metadata": {},
   "source": [
    "### Editing Series.\n",
    "- Pandas gives us way to edit a series, but it is not recommanded."
   ]
  },
  {
   "cell_type": "code",
   "execution_count": null,
   "id": "937f3549-8e19-45c7-8138-c7a8c40bb83c",
   "metadata": {},
   "outputs": [],
   "source": [
    "# using indexing\n",
    "marks_series[1] = 100\n",
    "marks_series"
   ]
  },
  {
   "cell_type": "code",
   "execution_count": null,
   "id": "bd714db4-5faf-46ab-ad9a-d0d82981609c",
   "metadata": {},
   "outputs": [],
   "source": [
    "# what if an index does not exist\n",
    "marks_series['evs'] = 100"
   ]
  },
  {
   "cell_type": "code",
   "execution_count": null,
   "id": "5f4a2b59-0842-420a-bd94-afd7d6cdc267",
   "metadata": {},
   "outputs": [],
   "source": [
    "marks_series"
   ]
  },
  {
   "cell_type": "code",
   "execution_count": null,
   "id": "4da091ba-c39f-490c-8e58-e5935612f78a",
   "metadata": {},
   "outputs": [],
   "source": [
    "# slicing\n",
    "runs_ser[2:4] = [100,100]\n",
    "runs_ser"
   ]
  },
  {
   "cell_type": "code",
   "execution_count": null,
   "id": "698d42d8-f1ea-45fd-b2a4-3f0a1bb8777c",
   "metadata": {},
   "outputs": [],
   "source": [
    "# fancy indexing\n",
    "runs_ser[[0,3,4]] = [0,0,0]\n",
    "runs_ser"
   ]
  },
  {
   "cell_type": "code",
   "execution_count": null,
   "id": "19580137-c31e-41ae-a41f-41f9cab616e1",
   "metadata": {},
   "outputs": [],
   "source": [
    "# using index label\n",
    "movies['2 States (2014 film)'] = 'Alia Bhatt'\n",
    "movies"
   ]
  },
  {
   "cell_type": "markdown",
   "id": "25ff84e7-eb8c-4ead-9da9-44d9690fee67",
   "metadata": {},
   "source": [
    "### Series with Python Functionalities"
   ]
  },
  {
   "cell_type": "code",
   "execution_count": null,
   "id": "752088a6-9960-4817-a69a-8237e8830a69",
   "metadata": {},
   "outputs": [],
   "source": [
    "# len/type/dir/sorted/max/min\n",
    "print(len(subs))\n",
    "print(type(subs))\n",
    "print(dir(subs))\n",
    "print(sorted(subs))\n",
    "print(min(subs))\n",
    "print(max(subs))"
   ]
  },
  {
   "cell_type": "code",
   "execution_count": null,
   "id": "fe9bc32d-3e62-43d3-83ac-663e28996065",
   "metadata": {},
   "outputs": [],
   "source": [
    "# type conversion\n",
    "list(marks_series)"
   ]
  },
  {
   "cell_type": "code",
   "execution_count": null,
   "id": "87098d4f-e005-43e6-b7c2-5b336759cece",
   "metadata": {},
   "outputs": [],
   "source": [
    "dict(marks_series)"
   ]
  },
  {
   "cell_type": "code",
   "execution_count": null,
   "id": "cff7b6cf-c63f-4130-b71d-ce521429ef89",
   "metadata": {},
   "outputs": [],
   "source": [
    "# membership operator\n",
    "'2 States (2014 film)' in movies"
   ]
  },
  {
   "cell_type": "code",
   "execution_count": null,
   "id": "1779b2d5-bae7-4975-9624-3bbe816b4a0a",
   "metadata": {},
   "outputs": [],
   "source": [
    "'Alia Bhatt' in movies.values"
   ]
  },
  {
   "cell_type": "code",
   "execution_count": null,
   "id": "ded3e561-75e5-4705-8168-a016b66a1880",
   "metadata": {},
   "outputs": [],
   "source": [
    "movies"
   ]
  },
  {
   "cell_type": "code",
   "execution_count": null,
   "id": "8588ac45-6a85-4508-bcee-1cb06969c306",
   "metadata": {
    "scrolled": true
   },
   "outputs": [],
   "source": [
    "# looping\n",
    "for i in movies:\n",
    "    print(i)"
   ]
  },
  {
   "cell_type": "code",
   "execution_count": null,
   "id": "ad8296b5-22bc-4564-b341-41472c568ce5",
   "metadata": {},
   "outputs": [],
   "source": [
    "# arithmetic operator. \n",
    "100 - marks_series"
   ]
  },
  {
   "cell_type": "code",
   "execution_count": null,
   "id": "61114624-af3f-461d-87f8-f70245dc4e19",
   "metadata": {},
   "outputs": [],
   "source": [
    "# Relation operator. \n",
    "\n",
    "# this give me boolean series, which has true at that place where the given condtion is true. \n",
    "# also called mask boolean series. \n",
    "vk >= 50"
   ]
  },
  {
   "cell_type": "markdown",
   "id": "3a45dbe2-0657-4bba-a2ad-ed0455d5a009",
   "metadata": {},
   "source": [
    "### Boolean Indexing on Series"
   ]
  },
  {
   "cell_type": "code",
   "execution_count": null,
   "id": "ecc2ee7c-736b-477c-b136-138bc1fb962c",
   "metadata": {},
   "outputs": [],
   "source": [
    "# Find no of innings in which kohli score more than or equal to 50's. \n",
    "\n",
    "vk[vk >= 50].size"
   ]
  },
  {
   "cell_type": "code",
   "execution_count": null,
   "id": "2cbc0de1-2ea2-4717-bfa4-eda1b5d5e92a",
   "metadata": {},
   "outputs": [],
   "source": [
    "# find number of ducks. \n",
    "\n",
    "# mask boolean series. \n",
    "vk == 0\n",
    "\n",
    "vk[vk == 0].size"
   ]
  },
  {
   "cell_type": "code",
   "execution_count": null,
   "id": "074c0d98-5316-469d-9e20-d72df84a84cb",
   "metadata": {},
   "outputs": [],
   "source": [
    "# Count number of day when I had more than 200 subs a day. \n",
    "\n",
    "subs > 200\n",
    "\n",
    "subs[subs > 200].size"
   ]
  },
  {
   "cell_type": "code",
   "execution_count": null,
   "id": "6ede3926-a23b-49ae-8dee-b81e8fcdd25c",
   "metadata": {},
   "outputs": [],
   "source": [
    "# find actors who have done more than 20 movies. \n",
    "\n",
    "num_movies = movies.value_counts() \n",
    "\n",
    "# mask boolean series. \n",
    "num_movies > 20\n",
    "\n",
    "num_movies[num_movies > 20]"
   ]
  },
  {
   "cell_type": "markdown",
   "id": "74d7e518-0118-424e-ad14-c2d80927793b",
   "metadata": {},
   "source": [
    "### Plotting Graphs on Series"
   ]
  },
  {
   "cell_type": "code",
   "execution_count": null,
   "id": "d41ecc76-c5f2-446c-ae14-a5ee3366e4e6",
   "metadata": {},
   "outputs": [],
   "source": [
    "subs.plot()"
   ]
  },
  {
   "cell_type": "code",
   "execution_count": null,
   "id": "ba1a2400-8779-4af3-9b8e-f25d9e09abf9",
   "metadata": {},
   "outputs": [],
   "source": [
    "movies.value_counts().head(20).plot(kind = 'bar')"
   ]
  },
  {
   "cell_type": "code",
   "execution_count": null,
   "id": "4b9e9ac3-fdc1-42cb-bf87-b904d3b6d215",
   "metadata": {},
   "outputs": [],
   "source": [
    "movies.value_counts().head(10).plot(kind = 'pie')"
   ]
  },
  {
   "cell_type": "code",
   "execution_count": null,
   "id": "5287d07d-e323-44b4-9327-854ee66fb6c2",
   "metadata": {},
   "outputs": [],
   "source": []
  }
 ],
 "metadata": {
  "kernelspec": {
   "display_name": "Python 3 (ipykernel)",
   "language": "python",
   "name": "python3"
  },
  "language_info": {
   "codemirror_mode": {
    "name": "ipython",
    "version": 3
   },
   "file_extension": ".py",
   "mimetype": "text/x-python",
   "name": "python",
   "nbconvert_exporter": "python",
   "pygments_lexer": "ipython3",
   "version": "3.13.1"
  }
 },
 "nbformat": 4,
 "nbformat_minor": 5
}
